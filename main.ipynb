{
 "cells": [
  {
   "cell_type": "markdown",
   "source": [
    "### Project 3 - Group 7 ###"
   ],
   "metadata": {
    "collapsed": false,
    "pycharm": {
     "name": "#%% md\n"
    }
   }
  },
  {
   "cell_type": "code",
   "execution_count": 27,
   "outputs": [],
   "source": [
    "import pandas as pd\n",
    "import numpy as np\n",
    "from sklearn import preprocessing"
   ],
   "metadata": {
    "collapsed": false,
    "pycharm": {
     "name": "#%%\n"
    }
   }
  },
  {
   "cell_type": "code",
   "execution_count": 51,
   "outputs": [
    {
     "data": {
      "text/plain": "                                                 name mbid  \\\n0                                           As It Was        \n1                                     United In Grief        \n2                                                 N95        \n3                                  Worldwide Steppers        \n4                                            Die Hard        \n..                                                ...  ...   \n95                                              712PM        \n96  Enemy (with JID) - from the series Arcane Leag...        \n97                                                Sky        \n98                                     favorite crime        \n99                                              Saoko        \n\n                                                  url  \\\n0   https://www.last.fm/music/Harry+Styles/_/As+It...   \n1   https://www.last.fm/music/Kendrick+Lamar/_/Uni...   \n2      https://www.last.fm/music/Kendrick+Lamar/_/N95   \n3   https://www.last.fm/music/Kendrick+Lamar/_/Wor...   \n4   https://www.last.fm/music/Kendrick+Lamar/_/Die...   \n..                                                ...   \n95           https://www.last.fm/music/Future/_/712PM   \n96  https://www.last.fm/music/Imagine+Dragons/_/En...   \n97      https://www.last.fm/music/Playboi+Carti/_/Sky   \n98  https://www.last.fm/music/Olivia+Rodrigo/_/fav...   \n99     https://www.last.fm/music/Rosal%C3%ADa/_/Saoko   \n\n                                               artist  \n0   {'name': 'Harry Styles', 'mbid': '', 'url': 'h...  \n1   {'name': 'Kendrick Lamar', 'mbid': '381086ea-f...  \n2   {'name': 'Kendrick Lamar', 'mbid': '381086ea-f...  \n3   {'name': 'Kendrick Lamar', 'mbid': '381086ea-f...  \n4   {'name': 'Kendrick Lamar', 'mbid': '381086ea-f...  \n..                                                ...  \n95  {'name': 'Future', 'mbid': '9f1195cf-9900-45db...  \n96  {'name': 'Imagine Dragons', 'mbid': '012151a8-...  \n97  {'name': 'Playboi Carti', 'mbid': '', 'url': '...  \n98  {'name': 'Olivia Rodrigo', 'mbid': '', 'url': ...  \n99  {'name': 'Rosalía', 'mbid': 'ac0ee862-a6ca-4d3...  \n\n[150 rows x 4 columns]",
      "text/html": "<div>\n<style scoped>\n    .dataframe tbody tr th:only-of-type {\n        vertical-align: middle;\n    }\n\n    .dataframe tbody tr th {\n        vertical-align: top;\n    }\n\n    .dataframe thead th {\n        text-align: right;\n    }\n</style>\n<table border=\"1\" class=\"dataframe\">\n  <thead>\n    <tr style=\"text-align: right;\">\n      <th></th>\n      <th>name</th>\n      <th>mbid</th>\n      <th>url</th>\n      <th>artist</th>\n    </tr>\n  </thead>\n  <tbody>\n    <tr>\n      <th>0</th>\n      <td>As It Was</td>\n      <td></td>\n      <td>https://www.last.fm/music/Harry+Styles/_/As+It...</td>\n      <td>{'name': 'Harry Styles', 'mbid': '', 'url': 'h...</td>\n    </tr>\n    <tr>\n      <th>1</th>\n      <td>United In Grief</td>\n      <td></td>\n      <td>https://www.last.fm/music/Kendrick+Lamar/_/Uni...</td>\n      <td>{'name': 'Kendrick Lamar', 'mbid': '381086ea-f...</td>\n    </tr>\n    <tr>\n      <th>2</th>\n      <td>N95</td>\n      <td></td>\n      <td>https://www.last.fm/music/Kendrick+Lamar/_/N95</td>\n      <td>{'name': 'Kendrick Lamar', 'mbid': '381086ea-f...</td>\n    </tr>\n    <tr>\n      <th>3</th>\n      <td>Worldwide Steppers</td>\n      <td></td>\n      <td>https://www.last.fm/music/Kendrick+Lamar/_/Wor...</td>\n      <td>{'name': 'Kendrick Lamar', 'mbid': '381086ea-f...</td>\n    </tr>\n    <tr>\n      <th>4</th>\n      <td>Die Hard</td>\n      <td></td>\n      <td>https://www.last.fm/music/Kendrick+Lamar/_/Die...</td>\n      <td>{'name': 'Kendrick Lamar', 'mbid': '381086ea-f...</td>\n    </tr>\n    <tr>\n      <th>...</th>\n      <td>...</td>\n      <td>...</td>\n      <td>...</td>\n      <td>...</td>\n    </tr>\n    <tr>\n      <th>95</th>\n      <td>712PM</td>\n      <td></td>\n      <td>https://www.last.fm/music/Future/_/712PM</td>\n      <td>{'name': 'Future', 'mbid': '9f1195cf-9900-45db...</td>\n    </tr>\n    <tr>\n      <th>96</th>\n      <td>Enemy (with JID) - from the series Arcane Leag...</td>\n      <td></td>\n      <td>https://www.last.fm/music/Imagine+Dragons/_/En...</td>\n      <td>{'name': 'Imagine Dragons', 'mbid': '012151a8-...</td>\n    </tr>\n    <tr>\n      <th>97</th>\n      <td>Sky</td>\n      <td></td>\n      <td>https://www.last.fm/music/Playboi+Carti/_/Sky</td>\n      <td>{'name': 'Playboi Carti', 'mbid': '', 'url': '...</td>\n    </tr>\n    <tr>\n      <th>98</th>\n      <td>favorite crime</td>\n      <td></td>\n      <td>https://www.last.fm/music/Olivia+Rodrigo/_/fav...</td>\n      <td>{'name': 'Olivia Rodrigo', 'mbid': '', 'url': ...</td>\n    </tr>\n    <tr>\n      <th>99</th>\n      <td>Saoko</td>\n      <td></td>\n      <td>https://www.last.fm/music/Rosal%C3%ADa/_/Saoko</td>\n      <td>{'name': 'Rosalía', 'mbid': 'ac0ee862-a6ca-4d3...</td>\n    </tr>\n  </tbody>\n</table>\n<p>150 rows × 4 columns</p>\n</div>"
     },
     "execution_count": 51,
     "metadata": {},
     "output_type": "execute_result"
    }
   ],
   "source": [
    "import time\n",
    "from IPython.core.display import clear_output\n",
    "import requests\n",
    "\n",
    "API_KEY = '3b7edf89f3e5d5af2746988a93b5c39e'\n",
    "headers = {'user-agent': 'machinelearning'}\n",
    "url = 'https://ws.audioscrobbler.com/2.0/'\n",
    "\n",
    "responses = []\n",
    "page = 1\n",
    "total_pages = 99999\n",
    "\n",
    "while page <= 2: # set the number of pages we want to download. replace with \"total_pages\" to download everything.\n",
    "\n",
    "    payload = {'method': 'chart.gettoptracks', 'api_key': API_KEY, 'format': 'json', 'page' : page}\n",
    "\n",
    "    # print some output so we can see the status\n",
    "    print(\"Requesting page {}/{}\".format(page, total_pages))\n",
    "    clear_output(wait = True)\n",
    "\n",
    "    # make the API call\n",
    "    response = requests.get(url, headers=headers, params=payload)\n",
    "\n",
    "    # if we get an error, print the response and halt the loop\n",
    "    if response.status_code != 200:\n",
    "        print(response.text)\n",
    "        break\n",
    "\n",
    "    # extract pagination info\n",
    "    page = int(response.json()['tracks']['@attr']['page'])\n",
    "    total_pages = int(response.json()['tracks']['@attr']['totalPages'])\n",
    "\n",
    "    # append response\n",
    "    responses.append(response)\n",
    "\n",
    "    time.sleep(0.1)\n",
    "\n",
    "    # increment the page number\n",
    "    page += 1\n",
    "\n",
    "\n",
    "frames = [pd.DataFrame(r.json()['tracks']['track']) for r in responses]\n",
    "df = pd.concat(frames)\n",
    "df.drop(['duration', 'playcount', 'listeners', 'streamable', 'image'], axis=1, inplace=True)\n",
    "df"
   ],
   "metadata": {
    "collapsed": false,
    "pycharm": {
     "name": "#%%\n"
    }
   }
  },
  {
   "cell_type": "code",
   "execution_count": null,
   "outputs": [],
   "source": [],
   "metadata": {
    "collapsed": false,
    "pycharm": {
     "name": "#%%\n"
    }
   }
  }
 ],
 "metadata": {
  "kernelspec": {
   "display_name": "Python 3",
   "language": "python",
   "name": "python3"
  },
  "language_info": {
   "codemirror_mode": {
    "name": "ipython",
    "version": 3
   },
   "file_extension": ".py",
   "mimetype": "text/x-python",
   "name": "python",
   "nbconvert_exporter": "python",
   "pygments_lexer": "ipython3",
   "version": "3.9.7"
  }
 },
 "nbformat": 4,
 "nbformat_minor": 0
}