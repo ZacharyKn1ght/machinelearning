{
 "cells": [
  {
   "cell_type": "markdown",
   "metadata": {
    "collapsed": false,
    "pycharm": {
     "name": "#%% md\n"
    }
   },
   "source": [
    "### Project 3 - Group 7 ###"
   ]
  },
  {
   "cell_type": "code",
   "execution_count": 2,
   "metadata": {
    "collapsed": false,
    "pycharm": {
     "name": "#%%\n"
    }
   },
   "outputs": [],
   "source": [
    "import pandas as pd\n",
    "import numpy as np\n",
    "from sklearn import preprocessing"
   ]
  },
  {
   "cell_type": "code",
   "execution_count": 3,
   "metadata": {
    "collapsed": false,
    "pycharm": {
     "name": "#%%\n"
    }
   },
   "outputs": [
    {
     "name": "stdout",
     "output_type": "stream",
     "text": [
      "CSV file written\n"
     ]
    }
   ],
   "source": [
    "# WARNING: Do not run this cell unless you want to replace the CSV file\n",
    "import time\n",
    "from IPython.core.display import clear_output\n",
    "import requests\n",
    "\n",
    "API_KEY = '3b7edf89f3e5d5af2746988a93b5c39e'\n",
    "headers = {'user-agent': 'machinelearning'}\n",
    "url = 'https://ws.audioscrobbler.com/2.0/'\n",
    "\n",
    "responses = []\n",
    "page = 1\n",
    "total_pages = 99999\n",
    "\n",
    "while page <= 2: # set the number of pages we want to download. replace with \"total_pages\" to download everything.\n",
    "    payload = {'method': 'chart.gettoptracks', 'api_key': API_KEY, 'format': 'json', 'page' : page}\n",
    "\n",
    "    print(\"Requesting page {}/{}\".format(page, total_pages)) # print some output so we can see the status\n",
    "    clear_output(wait = True)\n",
    "\n",
    "    response = requests.get(url, headers=headers, params=payload)\n",
    "    if response.status_code != 200: # if we get an error, print the response and halt the loop\n",
    "        print(response.text)\n",
    "        break\n",
    "\n",
    "    page = int(response.json()['tracks']['@attr']['page']) # extract pagination info\n",
    "    total_pages = int(response.json()['tracks']['@attr']['totalPages'])\n",
    "\n",
    "    responses.append(response) # append response\n",
    "    time.sleep(0.1) #avoid requesting too fast. I don't know if we will actually get banned without this\n",
    "    page += 1 # increment the page number\n",
    "\n",
    "frames = [pd.DataFrame(r.json()['tracks']['track']) for r in responses]\n",
    "df = pd.concat(frames)\n",
    "df.drop(['duration', 'playcount', 'listeners', 'streamable', 'image', 'url', 'mbid'], axis=1, inplace=True)\n",
    "df = df.reset_index(drop=True)\n",
    "df.rename(columns = {'name':'track'}, inplace = True)\n",
    "\n",
    "# clean artist column and get artist_list[]\n",
    "temp = []\n",
    "artist_list = []\n",
    "key = 'name'\n",
    "for i in df.artist:\n",
    "    temp.append(i)\n",
    "for d in temp:\n",
    "    artist_list.append(d[key])\n",
    "df.artist = artist_list\n",
    "\n",
    "#get track_list\n",
    "track_list = []\n",
    "for i in df.track:\n",
    "    track_list.append(i)\n",
    "\n",
    "responses = []\n",
    "counter = 0\n",
    "while counter < len(track_list):\n",
    "    payload = {'method': 'track.gettoptags', 'artist': artist_list[counter], 'track': track_list[counter], 'api_key': API_KEY, 'format': 'json', 'page' : page}\n",
    "    print(\"Requesting tag {}/{}\".format(counter, len(track_list))) # print some output so we can see the status\n",
    "    clear_output(wait = True)\n",
    "    response = requests.get(url, headers=headers, params=payload)\n",
    "    if response.status_code != 200: # if we get an error, print the response and halt the loop\n",
    "        print(response.text)\n",
    "        break\n",
    "    responses.append(response)\n",
    "    time.sleep(0.1) #avoid requesting too fast. I don't know if we will actually get banned without this\n",
    "    counter +=1\n",
    "\n",
    "genres = []\n",
    "for r in responses:\n",
    "    genres.append(r.json()['toptags']['tag'][0]['name'])\n",
    "df['genre'] = genres\n",
    "\n",
    "# save df as csv file\n",
    "df.to_csv('dataset.csv', index=False)\n",
    "clear_output(wait = True)\n",
    "print(\"CSV file written\")"
   ]
  },
  {
   "cell_type": "code",
   "execution_count": 4,
   "outputs": [
    {
     "data": {
      "text/plain": "                  track             artist        genre\n0             As It Was       Harry Styles    indie pop\n1                   N95     Kendrick Lamar          rap\n2       United In Grief     Kendrick Lamar     jazz rap\n3    Worldwide Steppers     Kendrick Lamar  kodak black\n4              Die Hard     Kendrick Lamar          rnb\n..                  ...                ...          ...\n145          King Kunta     Kendrick Lamar      Hip-Hop\n146              Golden       Harry Styles    indie pop\n147            Softcore  The Neighbourhood  alternative\n148           Heartless         Kanye West   Kanye West\n149        Cruel Summer       Taylor Swift          pop\n\n[150 rows x 3 columns]",
      "text/html": "<div>\n<style scoped>\n    .dataframe tbody tr th:only-of-type {\n        vertical-align: middle;\n    }\n\n    .dataframe tbody tr th {\n        vertical-align: top;\n    }\n\n    .dataframe thead th {\n        text-align: right;\n    }\n</style>\n<table border=\"1\" class=\"dataframe\">\n  <thead>\n    <tr style=\"text-align: right;\">\n      <th></th>\n      <th>track</th>\n      <th>artist</th>\n      <th>genre</th>\n    </tr>\n  </thead>\n  <tbody>\n    <tr>\n      <th>0</th>\n      <td>As It Was</td>\n      <td>Harry Styles</td>\n      <td>indie pop</td>\n    </tr>\n    <tr>\n      <th>1</th>\n      <td>N95</td>\n      <td>Kendrick Lamar</td>\n      <td>rap</td>\n    </tr>\n    <tr>\n      <th>2</th>\n      <td>United In Grief</td>\n      <td>Kendrick Lamar</td>\n      <td>jazz rap</td>\n    </tr>\n    <tr>\n      <th>3</th>\n      <td>Worldwide Steppers</td>\n      <td>Kendrick Lamar</td>\n      <td>kodak black</td>\n    </tr>\n    <tr>\n      <th>4</th>\n      <td>Die Hard</td>\n      <td>Kendrick Lamar</td>\n      <td>rnb</td>\n    </tr>\n    <tr>\n      <th>...</th>\n      <td>...</td>\n      <td>...</td>\n      <td>...</td>\n    </tr>\n    <tr>\n      <th>145</th>\n      <td>King Kunta</td>\n      <td>Kendrick Lamar</td>\n      <td>Hip-Hop</td>\n    </tr>\n    <tr>\n      <th>146</th>\n      <td>Golden</td>\n      <td>Harry Styles</td>\n      <td>indie pop</td>\n    </tr>\n    <tr>\n      <th>147</th>\n      <td>Softcore</td>\n      <td>The Neighbourhood</td>\n      <td>alternative</td>\n    </tr>\n    <tr>\n      <th>148</th>\n      <td>Heartless</td>\n      <td>Kanye West</td>\n      <td>Kanye West</td>\n    </tr>\n    <tr>\n      <th>149</th>\n      <td>Cruel Summer</td>\n      <td>Taylor Swift</td>\n      <td>pop</td>\n    </tr>\n  </tbody>\n</table>\n<p>150 rows × 3 columns</p>\n</div>"
     },
     "execution_count": 4,
     "metadata": {},
     "output_type": "execute_result"
    }
   ],
   "source": [
    "dataset = pd.read_csv('dataset.csv')\n",
    "dataset"
   ],
   "metadata": {
    "collapsed": false,
    "pycharm": {
     "name": "#%%\n"
    }
   }
  },
  {
   "cell_type": "code",
   "execution_count": null,
   "outputs": [],
   "source": [],
   "metadata": {
    "collapsed": false,
    "pycharm": {
     "name": "#%%\n"
    }
   }
  }
 ],
 "metadata": {
  "interpreter": {
   "hash": "ad2bdc8ecc057115af97d19610ffacc2b4e99fae6737bb82f5d7fb13d2f2c186"
  },
  "kernelspec": {
   "display_name": "Python 3.9.7 ('base')",
   "language": "python",
   "name": "python3"
  },
  "language_info": {
   "codemirror_mode": {
    "name": "ipython",
    "version": 3
   },
   "file_extension": ".py",
   "mimetype": "text/x-python",
   "name": "python",
   "nbconvert_exporter": "python",
   "pygments_lexer": "ipython3",
   "version": "3.9.7"
  }
 },
 "nbformat": 4,
 "nbformat_minor": 0
}